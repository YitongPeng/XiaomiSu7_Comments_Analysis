{
 "cells": [
  {
   "cell_type": "code",
   "execution_count": 7,
   "id": "9069dafc",
   "metadata": {},
   "outputs": [],
   "source": [
    "import pandas as pd\n",
    "import numpy as np\n",
    "import matplotlib\n",
    "import matplotlib.pyplot as plt\n",
    "import seaborn as sns\n",
    "from pyecharts.charts import Pie\n",
    "from pyecharts.charts import Line\n",
    "\n",
    "from snownlp import SnowNLP  # 情感分析\n",
    "\n",
    "import re\n",
    "import jieba\n",
    "from itertools import chain  # 二维，一维列表转换\n",
    "from collections import Counter\n",
    "from wordcloud import WordCloud"
   ]
  },
  {
   "cell_type": "code",
   "execution_count": 9,
   "id": "b2261dfc",
   "metadata": {},
   "outputs": [
    {
     "data": {
      "text/html": [
       "<div>\n",
       "<style scoped>\n",
       "    .dataframe tbody tr th:only-of-type {\n",
       "        vertical-align: middle;\n",
       "    }\n",
       "\n",
       "    .dataframe tbody tr th {\n",
       "        vertical-align: top;\n",
       "    }\n",
       "\n",
       "    .dataframe thead th {\n",
       "        text-align: right;\n",
       "    }\n",
       "</style>\n",
       "<table border=\"1\" class=\"dataframe\">\n",
       "  <thead>\n",
       "    <tr style=\"text-align: right;\">\n",
       "      <th></th>\n",
       "      <th>用户名</th>\n",
       "      <th>内容</th>\n",
       "      <th>点赞量</th>\n",
       "      <th>日期</th>\n",
       "    </tr>\n",
       "  </thead>\n",
       "  <tbody>\n",
       "    <tr>\n",
       "      <th>0</th>\n",
       "      <td>SupremeWow</td>\n",
       "      <td>小米su7强势破圈太火爆了，雷总得抓紧提高产能啊</td>\n",
       "      <td>3025</td>\n",
       "      <td>2024-03-30 12:22:53</td>\n",
       "    </tr>\n",
       "    <tr>\n",
       "      <th>1</th>\n",
       "      <td>及米侠</td>\n",
       "      <td>感觉这次黑稿不太多，看来车圈还是更干净一些！</td>\n",
       "      <td>1725</td>\n",
       "      <td>2024-03-30 12:23:26</td>\n",
       "    </tr>\n",
       "    <tr>\n",
       "      <th>2</th>\n",
       "      <td>小麦Elite</td>\n",
       "      <td>小米手机1代回忆～</td>\n",
       "      <td>1020</td>\n",
       "      <td>2024-03-30 12:22:38</td>\n",
       "    </tr>\n",
       "    <tr>\n",
       "      <th>3</th>\n",
       "      <td>米12U</td>\n",
       "      <td>雷总辛苦了 感谢您为大家做了一辆Dream car</td>\n",
       "      <td>660</td>\n",
       "      <td>2024-03-30 12:22:39</td>\n",
       "    </tr>\n",
       "    <tr>\n",
       "      <th>4</th>\n",
       "      <td>Spider_boy666</td>\n",
       "      <td>雷总加电</td>\n",
       "      <td>650</td>\n",
       "      <td>2024-03-30 12:23:00</td>\n",
       "    </tr>\n",
       "    <tr>\n",
       "      <th>...</th>\n",
       "      <td>...</td>\n",
       "      <td>...</td>\n",
       "      <td>...</td>\n",
       "      <td>...</td>\n",
       "    </tr>\n",
       "    <tr>\n",
       "      <th>4568</th>\n",
       "      <td>春夏秋冬湖</td>\n",
       "      <td>欢迎雷军🍉</td>\n",
       "      <td>0</td>\n",
       "      <td>2024-05-18 19:58:08</td>\n",
       "    </tr>\n",
       "    <tr>\n",
       "      <th>4569</th>\n",
       "      <td>四季的暖窝</td>\n",
       "      <td>雷总，能不能发售ARE U OK大字母 运动包 能不能开MI家HOTEL，用SU7接送客人到MI家</td>\n",
       "      <td>0</td>\n",
       "      <td>2024-05-18 19:48:31</td>\n",
       "    </tr>\n",
       "    <tr>\n",
       "      <th>4570</th>\n",
       "      <td>米粉玩车局</td>\n",
       "      <td>中国平安的平安车险，未经本人允许，滥用本人姓名、电话、身份证信息，连续一个月车险客服电话骚扰...</td>\n",
       "      <td>0</td>\n",
       "      <td>2024-05-18 17:45:00</td>\n",
       "    </tr>\n",
       "    <tr>\n",
       "      <th>4571</th>\n",
       "      <td>浦东机场上空的轰鸣</td>\n",
       "      <td>不想体验你们的最新科技，雷嗨</td>\n",
       "      <td>0</td>\n",
       "      <td>2024-05-18 17:42:53</td>\n",
       "    </tr>\n",
       "    <tr>\n",
       "      <th>4572</th>\n",
       "      <td>阿罗君君19759</td>\n",
       "      <td>歌手2024</td>\n",
       "      <td>1</td>\n",
       "      <td>2024-05-18 17:21:05</td>\n",
       "    </tr>\n",
       "  </tbody>\n",
       "</table>\n",
       "<p>4573 rows × 4 columns</p>\n",
       "</div>"
      ],
      "text/plain": [
       "                用户名                                                 内容   点赞量  \\\n",
       "0        SupremeWow                           小米su7强势破圈太火爆了，雷总得抓紧提高产能啊  3025   \n",
       "1               及米侠                             感觉这次黑稿不太多，看来车圈还是更干净一些！  1725   \n",
       "2           小麦Elite                                          小米手机1代回忆～  1020   \n",
       "3              米12U                          雷总辛苦了 感谢您为大家做了一辆Dream car   660   \n",
       "4     Spider_boy666                                               雷总加电   650   \n",
       "...             ...                                                ...   ...   \n",
       "4568          春夏秋冬湖                                              欢迎雷军🍉     0   \n",
       "4569          四季的暖窝  雷总，能不能发售ARE U OK大字母 运动包 能不能开MI家HOTEL，用SU7接送客人到MI家     0   \n",
       "4570          米粉玩车局  中国平安的平安车险，未经本人允许，滥用本人姓名、电话、身份证信息，连续一个月车险客服电话骚扰...     0   \n",
       "4571      浦东机场上空的轰鸣                                     不想体验你们的最新科技，雷嗨     0   \n",
       "4572      阿罗君君19759                                             歌手2024     1   \n",
       "\n",
       "                       日期  \n",
       "0     2024-03-30 12:22:53  \n",
       "1     2024-03-30 12:23:26  \n",
       "2     2024-03-30 12:22:38  \n",
       "3     2024-03-30 12:22:39  \n",
       "4     2024-03-30 12:23:00  \n",
       "...                   ...  \n",
       "4568  2024-05-18 19:58:08  \n",
       "4569  2024-05-18 19:48:31  \n",
       "4570  2024-05-18 17:45:00  \n",
       "4571  2024-05-18 17:42:53  \n",
       "4572  2024-05-18 17:21:05  \n",
       "\n",
       "[4573 rows x 4 columns]"
      ]
     },
     "execution_count": 9,
     "metadata": {},
     "output_type": "execute_result"
    }
   ],
   "source": [
    "file_path = r\"/Users/pengyitong/Documents/大数据2102班_彭弋桐_基于小米su7评论的情感分析和数据分析/数据/xiaomi.csv\"\n",
    "df = pd.read_csv(file_path)\n",
    "df"
   ]
  },
  {
   "cell_type": "code",
   "execution_count": 10,
   "id": "6d7ffdfb",
   "metadata": {},
   "outputs": [
    {
     "data": {
      "text/plain": [
       "用户名    object\n",
       "内容     object\n",
       "点赞量     int64\n",
       "日期     object\n",
       "dtype: object"
      ]
     },
     "execution_count": 10,
     "metadata": {},
     "output_type": "execute_result"
    }
   ],
   "source": [
    "df.dtypes"
   ]
  },
  {
   "cell_type": "code",
   "execution_count": 11,
   "id": "13ae4385",
   "metadata": {},
   "outputs": [
    {
     "data": {
      "text/plain": [
       "count    4573.000000\n",
       "mean        5.428165\n",
       "std        85.513341\n",
       "min         0.000000\n",
       "25%         0.000000\n",
       "50%         0.000000\n",
       "75%         0.000000\n",
       "max      3025.000000\n",
       "Name: 点赞量, dtype: float64"
      ]
     },
     "execution_count": 11,
     "metadata": {},
     "output_type": "execute_result"
    }
   ],
   "source": [
    "df['点赞量'].describe()"
   ]
  },
  {
   "cell_type": "code",
   "execution_count": 12,
   "id": "8d667192",
   "metadata": {},
   "outputs": [
    {
     "data": {
      "text/plain": [
       "np.int64(0)"
      ]
     },
     "execution_count": 12,
     "metadata": {},
     "output_type": "execute_result"
    }
   ],
   "source": [
    "null_users = df['用户名'].isnull().sum()\n",
    "# “用户名”这一列如果有空值就赋零--isnull()，sum()统计一共有多少0\n",
    "null_users\n",
    "# np.int64(0)说明没有空值"
   ]
  },
  {
   "cell_type": "code",
   "execution_count": 13,
   "id": "450d4436",
   "metadata": {},
   "outputs": [
    {
     "data": {
      "text/plain": [
       "np.int64(0)"
      ]
     },
     "execution_count": 13,
     "metadata": {},
     "output_type": "execute_result"
    }
   ],
   "source": [
    "null_likes = df['点赞量'].isnull().sum()\n",
    "null_likes"
   ]
  },
  {
   "cell_type": "code",
   "execution_count": 14,
   "id": "bc5e1568",
   "metadata": {},
   "outputs": [
    {
     "data": {
      "text/plain": [
       "np.int64(0)"
      ]
     },
     "execution_count": 14,
     "metadata": {},
     "output_type": "execute_result"
    }
   ],
   "source": [
    "null_times = df['日期'].isnull().sum()\n",
    "null_times"
   ]
  },
  {
   "cell_type": "code",
   "execution_count": 15,
   "id": "83540759",
   "metadata": {},
   "outputs": [
    {
     "data": {
      "text/plain": [
       "np.int64(465)"
      ]
     },
     "execution_count": 15,
     "metadata": {},
     "output_type": "execute_result"
    }
   ],
   "source": [
    "# 计算每一行中包含空值的数量\n",
    "null_comments = df['内容'].isnull().sum()\n",
    "null_comments"
   ]
  },
  {
   "cell_type": "code",
   "execution_count": 41,
   "id": "e107cbf5",
   "metadata": {
    "scrolled": true
   },
   "outputs": [
    {
     "data": {
      "text/html": [
       "<div>\n",
       "<style scoped>\n",
       "    .dataframe tbody tr th:only-of-type {\n",
       "        vertical-align: middle;\n",
       "    }\n",
       "\n",
       "    .dataframe tbody tr th {\n",
       "        vertical-align: top;\n",
       "    }\n",
       "\n",
       "    .dataframe thead th {\n",
       "        text-align: right;\n",
       "    }\n",
       "</style>\n",
       "<table border=\"1\" class=\"dataframe\">\n",
       "  <thead>\n",
       "    <tr style=\"text-align: right;\">\n",
       "      <th></th>\n",
       "      <th>用户名</th>\n",
       "      <th>内容</th>\n",
       "      <th>点赞量</th>\n",
       "      <th>日期</th>\n",
       "    </tr>\n",
       "  </thead>\n",
       "  <tbody>\n",
       "    <tr>\n",
       "      <th>0</th>\n",
       "      <td>SupremeWow</td>\n",
       "      <td>小米su7强势破圈太火爆了，雷总得抓紧提高产能啊</td>\n",
       "      <td>3025</td>\n",
       "      <td>2024-03-30 12:22:53</td>\n",
       "    </tr>\n",
       "    <tr>\n",
       "      <th>1</th>\n",
       "      <td>及米侠</td>\n",
       "      <td>感觉这次黑稿不太多，看来车圈还是更干净一些！</td>\n",
       "      <td>1725</td>\n",
       "      <td>2024-03-30 12:23:26</td>\n",
       "    </tr>\n",
       "    <tr>\n",
       "      <th>2</th>\n",
       "      <td>小麦Elite</td>\n",
       "      <td>小米手机1代回忆～</td>\n",
       "      <td>1020</td>\n",
       "      <td>2024-03-30 12:22:38</td>\n",
       "    </tr>\n",
       "    <tr>\n",
       "      <th>3</th>\n",
       "      <td>米12U</td>\n",
       "      <td>雷总辛苦了 感谢您为大家做了一辆Dream car</td>\n",
       "      <td>660</td>\n",
       "      <td>2024-03-30 12:22:39</td>\n",
       "    </tr>\n",
       "    <tr>\n",
       "      <th>4</th>\n",
       "      <td>Spider_boy666</td>\n",
       "      <td>雷总加电</td>\n",
       "      <td>650</td>\n",
       "      <td>2024-03-30 12:23:00</td>\n",
       "    </tr>\n",
       "    <tr>\n",
       "      <th>...</th>\n",
       "      <td>...</td>\n",
       "      <td>...</td>\n",
       "      <td>...</td>\n",
       "      <td>...</td>\n",
       "    </tr>\n",
       "    <tr>\n",
       "      <th>4568</th>\n",
       "      <td>春夏秋冬湖</td>\n",
       "      <td>欢迎雷军🍉</td>\n",
       "      <td>0</td>\n",
       "      <td>2024-05-18 19:58:08</td>\n",
       "    </tr>\n",
       "    <tr>\n",
       "      <th>4569</th>\n",
       "      <td>四季的暖窝</td>\n",
       "      <td>雷总，能不能发售ARE U OK大字母 运动包 能不能开MI家HOTEL，用SU7接送客人到MI家</td>\n",
       "      <td>0</td>\n",
       "      <td>2024-05-18 19:48:31</td>\n",
       "    </tr>\n",
       "    <tr>\n",
       "      <th>4570</th>\n",
       "      <td>米粉玩车局</td>\n",
       "      <td>中国平安的平安车险，未经本人允许，滥用本人姓名、电话、身份证信息，连续一个月车险客服电话骚扰...</td>\n",
       "      <td>0</td>\n",
       "      <td>2024-05-18 17:45:00</td>\n",
       "    </tr>\n",
       "    <tr>\n",
       "      <th>4571</th>\n",
       "      <td>浦东机场上空的轰鸣</td>\n",
       "      <td>不想体验你们的最新科技，雷嗨</td>\n",
       "      <td>0</td>\n",
       "      <td>2024-05-18 17:42:53</td>\n",
       "    </tr>\n",
       "    <tr>\n",
       "      <th>4572</th>\n",
       "      <td>阿罗君君19759</td>\n",
       "      <td>歌手2024</td>\n",
       "      <td>1</td>\n",
       "      <td>2024-05-18 17:21:05</td>\n",
       "    </tr>\n",
       "  </tbody>\n",
       "</table>\n",
       "<p>4108 rows × 4 columns</p>\n",
       "</div>"
      ],
      "text/plain": [
       "                用户名                                                 内容   点赞量  \\\n",
       "0        SupremeWow                           小米su7强势破圈太火爆了，雷总得抓紧提高产能啊  3025   \n",
       "1               及米侠                             感觉这次黑稿不太多，看来车圈还是更干净一些！  1725   \n",
       "2           小麦Elite                                          小米手机1代回忆～  1020   \n",
       "3              米12U                          雷总辛苦了 感谢您为大家做了一辆Dream car   660   \n",
       "4     Spider_boy666                                               雷总加电   650   \n",
       "...             ...                                                ...   ...   \n",
       "4568          春夏秋冬湖                                              欢迎雷军🍉     0   \n",
       "4569          四季的暖窝  雷总，能不能发售ARE U OK大字母 运动包 能不能开MI家HOTEL，用SU7接送客人到MI家     0   \n",
       "4570          米粉玩车局  中国平安的平安车险，未经本人允许，滥用本人姓名、电话、身份证信息，连续一个月车险客服电话骚扰...     0   \n",
       "4571      浦东机场上空的轰鸣                                     不想体验你们的最新科技，雷嗨     0   \n",
       "4572      阿罗君君19759                                             歌手2024     1   \n",
       "\n",
       "                       日期  \n",
       "0     2024-03-30 12:22:53  \n",
       "1     2024-03-30 12:23:26  \n",
       "2     2024-03-30 12:22:38  \n",
       "3     2024-03-30 12:22:39  \n",
       "4     2024-03-30 12:23:00  \n",
       "...                   ...  \n",
       "4568  2024-05-18 19:58:08  \n",
       "4569  2024-05-18 19:48:31  \n",
       "4570  2024-05-18 17:45:00  \n",
       "4571  2024-05-18 17:42:53  \n",
       "4572  2024-05-18 17:21:05  \n",
       "\n",
       "[4108 rows x 4 columns]"
      ]
     },
     "execution_count": 41,
     "metadata": {},
     "output_type": "execute_result"
    }
   ],
   "source": [
    "# 删除 '内容' 列中包含空值的所有行\n",
    "df = df.dropna()\n",
    "df"
   ]
  },
  {
   "cell_type": "code",
   "execution_count": 42,
   "id": "89cb52ac",
   "metadata": {},
   "outputs": [
    {
     "data": {
      "text/plain": [
       "'517'"
      ]
     },
     "execution_count": 42,
     "metadata": {},
     "output_type": "execute_result"
    }
   ],
   "source": [
    "duplicate_rows = df.duplicated().sum()\n",
    "# 统计一共有多少重复行\n",
    "format(duplicate_rows)"
   ]
  },
  {
   "cell_type": "code",
   "execution_count": 43,
   "id": "218e1d5b",
   "metadata": {},
   "outputs": [
    {
     "data": {
      "text/html": [
       "<div>\n",
       "<style scoped>\n",
       "    .dataframe tbody tr th:only-of-type {\n",
       "        vertical-align: middle;\n",
       "    }\n",
       "\n",
       "    .dataframe tbody tr th {\n",
       "        vertical-align: top;\n",
       "    }\n",
       "\n",
       "    .dataframe thead th {\n",
       "        text-align: right;\n",
       "    }\n",
       "</style>\n",
       "<table border=\"1\" class=\"dataframe\">\n",
       "  <thead>\n",
       "    <tr style=\"text-align: right;\">\n",
       "      <th></th>\n",
       "      <th>用户名</th>\n",
       "      <th>内容</th>\n",
       "      <th>点赞量</th>\n",
       "      <th>日期</th>\n",
       "    </tr>\n",
       "  </thead>\n",
       "  <tbody>\n",
       "    <tr>\n",
       "      <th>0</th>\n",
       "      <td>SupremeWow</td>\n",
       "      <td>小米su7强势破圈太火爆了，雷总得抓紧提高产能啊</td>\n",
       "      <td>3025</td>\n",
       "      <td>2024-03-30 12:22:53</td>\n",
       "    </tr>\n",
       "    <tr>\n",
       "      <th>1</th>\n",
       "      <td>及米侠</td>\n",
       "      <td>感觉这次黑稿不太多，看来车圈还是更干净一些！</td>\n",
       "      <td>1725</td>\n",
       "      <td>2024-03-30 12:23:26</td>\n",
       "    </tr>\n",
       "    <tr>\n",
       "      <th>2</th>\n",
       "      <td>小麦Elite</td>\n",
       "      <td>小米手机1代回忆～</td>\n",
       "      <td>1020</td>\n",
       "      <td>2024-03-30 12:22:38</td>\n",
       "    </tr>\n",
       "    <tr>\n",
       "      <th>3</th>\n",
       "      <td>米12U</td>\n",
       "      <td>雷总辛苦了 感谢您为大家做了一辆Dream car</td>\n",
       "      <td>660</td>\n",
       "      <td>2024-03-30 12:22:39</td>\n",
       "    </tr>\n",
       "    <tr>\n",
       "      <th>4</th>\n",
       "      <td>Spider_boy666</td>\n",
       "      <td>雷总加电</td>\n",
       "      <td>650</td>\n",
       "      <td>2024-03-30 12:23:00</td>\n",
       "    </tr>\n",
       "    <tr>\n",
       "      <th>...</th>\n",
       "      <td>...</td>\n",
       "      <td>...</td>\n",
       "      <td>...</td>\n",
       "      <td>...</td>\n",
       "    </tr>\n",
       "    <tr>\n",
       "      <th>4180</th>\n",
       "      <td>我在梦里见过你821</td>\n",
       "      <td>红米还出汽车吗？</td>\n",
       "      <td>0</td>\n",
       "      <td>2024-03-30 12:22:15</td>\n",
       "    </tr>\n",
       "    <tr>\n",
       "      <th>4182</th>\n",
       "      <td>夏天的尾巴_Z</td>\n",
       "      <td>小米fold3为啥造的？</td>\n",
       "      <td>0</td>\n",
       "      <td>2024-03-30 12:22:13</td>\n",
       "    </tr>\n",
       "    <tr>\n",
       "      <th>4183</th>\n",
       "      <td>My咪西mi</td>\n",
       "      <td>suv</td>\n",
       "      <td>0</td>\n",
       "      <td>2024-03-30 12:22:12</td>\n",
       "    </tr>\n",
       "    <tr>\n",
       "      <th>4185</th>\n",
       "      <td>缘郎君</td>\n",
       "      <td>来了来了，雷总。</td>\n",
       "      <td>0</td>\n",
       "      <td>2024-03-30 12:22:01</td>\n",
       "    </tr>\n",
       "    <tr>\n",
       "      <th>4187</th>\n",
       "      <td>用户6702293896</td>\n",
       "      <td>第一</td>\n",
       "      <td>1</td>\n",
       "      <td>2024-03-30 12:21:58</td>\n",
       "    </tr>\n",
       "  </tbody>\n",
       "</table>\n",
       "<p>3591 rows × 4 columns</p>\n",
       "</div>"
      ],
      "text/plain": [
       "                用户名                         内容   点赞量                   日期\n",
       "0        SupremeWow   小米su7强势破圈太火爆了，雷总得抓紧提高产能啊  3025  2024-03-30 12:22:53\n",
       "1               及米侠     感觉这次黑稿不太多，看来车圈还是更干净一些！  1725  2024-03-30 12:23:26\n",
       "2           小麦Elite                  小米手机1代回忆～  1020  2024-03-30 12:22:38\n",
       "3              米12U  雷总辛苦了 感谢您为大家做了一辆Dream car   660  2024-03-30 12:22:39\n",
       "4     Spider_boy666                       雷总加电   650  2024-03-30 12:23:00\n",
       "...             ...                        ...   ...                  ...\n",
       "4180     我在梦里见过你821                   红米还出汽车吗？     0  2024-03-30 12:22:15\n",
       "4182        夏天的尾巴_Z               小米fold3为啥造的？     0  2024-03-30 12:22:13\n",
       "4183         My咪西mi                        suv     0  2024-03-30 12:22:12\n",
       "4185            缘郎君                   来了来了，雷总。     0  2024-03-30 12:22:01\n",
       "4187   用户6702293896                         第一     1  2024-03-30 12:21:58\n",
       "\n",
       "[3591 rows x 4 columns]"
      ]
     },
     "execution_count": 43,
     "metadata": {},
     "output_type": "execute_result"
    }
   ],
   "source": [
    "df = df.drop_duplicates()\n",
    "df"
   ]
  },
  {
   "cell_type": "code",
   "execution_count": null,
   "id": "a6e2ae2a",
   "metadata": {},
   "outputs": [],
   "source": []
  },
  {
   "cell_type": "code",
   "execution_count": null,
   "id": "dba35dce",
   "metadata": {},
   "outputs": [],
   "source": []
  },
  {
   "cell_type": "code",
   "execution_count": null,
   "id": "459828f6",
   "metadata": {},
   "outputs": [],
   "source": []
  },
  {
   "cell_type": "code",
   "execution_count": null,
   "id": "d8e2dc43",
   "metadata": {},
   "outputs": [],
   "source": []
  }
 ],
 "metadata": {
  "kernelspec": {
   "display_name": "Python [conda env:base] *",
   "language": "python",
   "name": "conda-base-py"
  },
  "language_info": {
   "codemirror_mode": {
    "name": "ipython",
    "version": 3
   },
   "file_extension": ".py",
   "mimetype": "text/x-python",
   "name": "python",
   "nbconvert_exporter": "python",
   "pygments_lexer": "ipython3",
   "version": "3.13.5"
  }
 },
 "nbformat": 4,
 "nbformat_minor": 5
}
